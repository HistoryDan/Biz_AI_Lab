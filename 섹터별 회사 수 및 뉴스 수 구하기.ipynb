{
 "cells": [
  {
   "cell_type": "code",
   "execution_count": 1,
   "id": "d36f823f",
   "metadata": {},
   "outputs": [],
   "source": [
    "import pandas as pd"
   ]
  },
  {
   "cell_type": "code",
   "execution_count": 2,
   "id": "4864d055",
   "metadata": {},
   "outputs": [],
   "source": [
    "df = pd.read_csv('/Users/parkjunhyeong/Desktop/박준형/02. 대내 및 대외활동/01. 대내활동/03. Biz&AI 랩/02. 소스/01. 데이터/06. 회귀분석 데이터/Composed_Data_ver1.4.csv')"
   ]
  },
  {
   "cell_type": "code",
   "execution_count": 23,
   "id": "07fe2e7c",
   "metadata": {},
   "outputs": [],
   "source": [
    "df_n = df.groupby(['GICS Sectors', 'Ticker']).size()"
   ]
  },
  {
   "cell_type": "code",
   "execution_count": 25,
   "id": "0bad4327",
   "metadata": {},
   "outputs": [],
   "source": [
    "df_n.to_excel('/Users/parkjunhyeong/Desktop/news_count.xlsx')"
   ]
  },
  {
   "cell_type": "code",
   "execution_count": 10,
   "id": "a0e38444",
   "metadata": {},
   "outputs": [],
   "source": [
    "tickers = df['Ticker'].unique().tolist()"
   ]
  },
  {
   "cell_type": "code",
   "execution_count": null,
   "id": "067ec05b",
   "metadata": {},
   "outputs": [],
   "source": []
  }
 ],
 "metadata": {
  "kernelspec": {
   "display_name": "Python 3 (ipykernel)",
   "language": "python",
   "name": "python3"
  },
  "language_info": {
   "codemirror_mode": {
    "name": "ipython",
    "version": 3
   },
   "file_extension": ".py",
   "mimetype": "text/x-python",
   "name": "python",
   "nbconvert_exporter": "python",
   "pygments_lexer": "ipython3",
   "version": "3.9.12"
  }
 },
 "nbformat": 4,
 "nbformat_minor": 5
}
