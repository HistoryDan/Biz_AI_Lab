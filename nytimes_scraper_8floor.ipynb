{
 "cells": [
  {
   "cell_type": "code",
   "execution_count": 1,
   "id": "96e29079",
   "metadata": {},
   "outputs": [],
   "source": [
    "#모듈 임포트\n",
    "import os\n",
    "import pandas as pd\n",
    "import numpy as np\n",
    "from newsplease import NewsPlease\n",
    "from tqdm import tqdm\n",
    "import time\n",
    "import random\n",
    "import newspaper\n",
    "import warnings\n",
    "warnings.filterwarnings('ignore')"
   ]
  },
  {
   "cell_type": "code",
   "execution_count": 2,
   "id": "2f16e910",
   "metadata": {},
   "outputs": [],
   "source": [
    "#기사 전문 가져오는 함수\n",
    "def get_title_text(href):\n",
    "    article = newspaper.Article(url='https://www.nytimes.com'+href)\n",
    "    time.sleep(random.randint(10, 20))\n",
    "    article.download()\n",
    "    article.parse()\n",
    "    return article.title, article.text"
   ]
  },
  {
   "cell_type": "code",
   "execution_count": null,
   "id": "43bfe8a9",
   "metadata": {},
   "outputs": [],
   "source": [
    "error_list = []\n",
    "url_path = '/Users/parkjunhyeong/Desktop/nytimes_temp_url'\n",
    "csv_path = '/Users/parkjunhyeong/Desktop/nytimes_temp_csv'\n",
    "pkl_path = '/Users/parkjunhyeong/Desktop/nytimes_temp_pkl'\n",
    "\n",
    "for i in range(1088,1360):\n",
    "    nytimes = pd.read_csv(url_path + str(i) + '.csv')\n",
    "    nytimes['title'] = None\n",
    "    nytimes['main_text'] = None\n",
    "    for j in tqdm(range(len(nytimes))):\n",
    "        try:\n",
    "            nytimes['title'][j], nytimes['main_text'][j] = get_title_text(nytimes['hrefs'][j])\n",
    "            time.sleep(random.randint(5,10))\n",
    "        except Exception as e:\n",
    "            print(i, j, e)\n",
    "            error_list.append((i,j))\n",
    "            pass\n",
    "    nytimes.to_csv(csv_path + '/' + str(i) + '.csv')\n",
    "    nytimes.to_pickle(pkl_path + '/' + str(i) + '.pkl')\n",
    "    time.sleep(random.randint(600,1200))"
   ]
  }
 ],
 "metadata": {
  "kernelspec": {
   "display_name": "Python 3 (ipykernel)",
   "language": "python",
   "name": "python3"
  },
  "language_info": {
   "codemirror_mode": {
    "name": "ipython",
    "version": 3
   },
   "file_extension": ".py",
   "mimetype": "text/x-python",
   "name": "python",
   "nbconvert_exporter": "python",
   "pygments_lexer": "ipython3",
   "version": "3.9.12"
  }
 },
 "nbformat": 4,
 "nbformat_minor": 5
}
