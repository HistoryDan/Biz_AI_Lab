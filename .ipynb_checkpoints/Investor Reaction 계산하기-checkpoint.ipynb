{
 "cells": [
  {
   "cell_type": "markdown",
   "id": "1274e69d",
   "metadata": {},
   "source": [
    "# 1. 비즈니스 뉴스 & 일반 뉴스 합치기"
   ]
  },
  {
   "cell_type": "code",
   "execution_count": 15,
   "id": "3e5c21d3",
   "metadata": {},
   "outputs": [],
   "source": [
    "import os\n",
    "import math\n",
    "import numpy as np\n",
    "import pandas as pd\n",
    "from tqdm import tqdm\n",
    "from datetime import datetime, timedelta"
   ]
  },
  {
   "cell_type": "code",
   "execution_count": 16,
   "id": "9e34a601",
   "metadata": {},
   "outputs": [],
   "source": [
    "news_df1 = pd.read_excel('/Users/parkjunhyeong/Desktop/nytimes_ver1.1.xlsx', sheet_name = 'Sheet1', index_col = 0)\n",
    "news_df2 = pd.read_excel('/Users/parkjunhyeong/Desktop/nytimes2_ver0.1.xlsx', sheet_name = 'Sheet1', index_col = 0)"
   ]
  },
  {
   "cell_type": "code",
   "execution_count": 17,
   "id": "6b846178",
   "metadata": {
    "scrolled": true
   },
   "outputs": [
    {
     "data": {
      "text/plain": [
       "Index(['URL', 'Publish Date', 'Title', 'Main Text', 'Clean Text',\n",
       "       'Truncated Text', 'ESG BERT', 'Ticker', 'Description', 'GICS Sector',\n",
       "       'Market Cap', 'Name', 'Length', 'News Type', 'Sentiment', '비고'],\n",
       "      dtype='object')"
      ]
     },
     "execution_count": 17,
     "metadata": {},
     "output_type": "execute_result"
    }
   ],
   "source": [
    "news_df1.columns"
   ]
  },
  {
   "cell_type": "code",
   "execution_count": 18,
   "id": "0acbabfa",
   "metadata": {
    "scrolled": true
   },
   "outputs": [
    {
     "data": {
      "text/plain": [
       "Index(['URL', 'Publish Date', 'Title', 'Main Text', 'Ticker', 'Description',\n",
       "       'GICS Sector', 'Market Cap', 'Name', 'Recheck', 'Length', 'Category',\n",
       "       'News Type', 'Sentiment', '비고'],\n",
       "      dtype='object')"
      ]
     },
     "execution_count": 18,
     "metadata": {},
     "output_type": "execute_result"
    }
   ],
   "source": [
    "news_df2.rename(columns = {'hrefs' : 'URL', 'publish_date' : 'Publish Date', 'title' : 'Title', 'main_text' : 'Main Text',\n",
    "                   'len' : 'Length'}, inplace = True ) \n",
    "news_df2.columns"
   ]
  },
  {
   "cell_type": "code",
   "execution_count": 19,
   "id": "c7cf3b73",
   "metadata": {},
   "outputs": [],
   "source": [
    "news_df1 = news_df1[['URL', 'Publish Date', 'Title', 'Main Text', 'Ticker', 'Description', 'Name', 'Length']]\n",
    "news_df2 = news_df2[['URL', 'Publish Date', 'Title', 'Main Text', 'Ticker', 'Description', 'Name', 'Length']]"
   ]
  },
  {
   "cell_type": "code",
   "execution_count": 20,
   "id": "1bf11b9e",
   "metadata": {
    "scrolled": true
   },
   "outputs": [
    {
     "data": {
      "text/html": [
       "<div>\n",
       "<style scoped>\n",
       "    .dataframe tbody tr th:only-of-type {\n",
       "        vertical-align: middle;\n",
       "    }\n",
       "\n",
       "    .dataframe tbody tr th {\n",
       "        vertical-align: top;\n",
       "    }\n",
       "\n",
       "    .dataframe thead th {\n",
       "        text-align: right;\n",
       "    }\n",
       "</style>\n",
       "<table border=\"1\" class=\"dataframe\">\n",
       "  <thead>\n",
       "    <tr style=\"text-align: right;\">\n",
       "      <th></th>\n",
       "      <th>URL</th>\n",
       "      <th>Publish Date</th>\n",
       "      <th>Title</th>\n",
       "      <th>Main Text</th>\n",
       "      <th>Ticker</th>\n",
       "      <th>Description</th>\n",
       "      <th>Name</th>\n",
       "      <th>Length</th>\n",
       "    </tr>\n",
       "  </thead>\n",
       "  <tbody>\n",
       "    <tr>\n",
       "      <th>0</th>\n",
       "      <td>https://www.nytimes.com/2019/01/01/business/me...</td>\n",
       "      <td>2019-01-01</td>\n",
       "      <td>Netflix Blocks Show in Saudi Arabia Critical o...</td>\n",
       "      <td>Netflix has blocked an episode of its show “Pa...</td>\n",
       "      <td>['NFLX']</td>\n",
       "      <td>['Netflix Inc']</td>\n",
       "      <td>['NETFLIX']</td>\n",
       "      <td>1</td>\n",
       "    </tr>\n",
       "    <tr>\n",
       "      <th>1</th>\n",
       "      <td>https://www.nytimes.com/2019/01/02/business/ju...</td>\n",
       "      <td>2019-01-02</td>\n",
       "      <td>Julie Sweet of Accenture Could See Her Future....</td>\n",
       "      <td>Why did you go to law school?\\n\\nI decided tha...</td>\n",
       "      <td>['ACN']</td>\n",
       "      <td>['Accenture Plc Class A']</td>\n",
       "      <td>['ACCENTURE']</td>\n",
       "      <td>1</td>\n",
       "    </tr>\n",
       "    <tr>\n",
       "      <th>2</th>\n",
       "      <td>https://www.nytimes.com/2019/01/02/business/te...</td>\n",
       "      <td>2019-01-02</td>\n",
       "      <td>Tesla Reports Record Output, but Cuts Prices, ...</td>\n",
       "      <td>Tesla shares ended trading nearly 7 percent lo...</td>\n",
       "      <td>['TSLA']</td>\n",
       "      <td>['Tesla Inc']</td>\n",
       "      <td>['TESLA']</td>\n",
       "      <td>1</td>\n",
       "    </tr>\n",
       "    <tr>\n",
       "      <th>3</th>\n",
       "      <td>https://www.nytimes.com/2019/01/03/business/de...</td>\n",
       "      <td>2019-01-03</td>\n",
       "      <td>Bristol-Myers to Acquire Celgene in Deal Worth...</td>\n",
       "      <td>Bristol-Myers Squibb said on Thursday that it ...</td>\n",
       "      <td>['BMY']</td>\n",
       "      <td>['Bristol Myers Squibb']</td>\n",
       "      <td>['BRISTOL']</td>\n",
       "      <td>1</td>\n",
       "    </tr>\n",
       "    <tr>\n",
       "      <th>4</th>\n",
       "      <td>https://www.nytimes.com/2019/01/03/business/de...</td>\n",
       "      <td>2019-01-03</td>\n",
       "      <td>Was Apple’s Warning a Surprise? Not to Its Sup...</td>\n",
       "      <td>Apple’s stock fell 10 percent on Thursday, its...</td>\n",
       "      <td>['AAPL']</td>\n",
       "      <td>['Apple Inc']</td>\n",
       "      <td>['APPLE']</td>\n",
       "      <td>1</td>\n",
       "    </tr>\n",
       "    <tr>\n",
       "      <th>...</th>\n",
       "      <td>...</td>\n",
       "      <td>...</td>\n",
       "      <td>...</td>\n",
       "      <td>...</td>\n",
       "      <td>...</td>\n",
       "      <td>...</td>\n",
       "      <td>...</td>\n",
       "      <td>...</td>\n",
       "    </tr>\n",
       "    <tr>\n",
       "      <th>2636</th>\n",
       "      <td>https://www.nytimes.com/2022/10/18/technology/...</td>\n",
       "      <td>2022-10-18</td>\n",
       "      <td>Amazon Labor Union Loses Election at Warehouse...</td>\n",
       "      <td>Mr. Smalls said the election “wasn’t free and ...</td>\n",
       "      <td>['AMZN']</td>\n",
       "      <td>['Amazon.Com Inc.']</td>\n",
       "      <td>['Amazon']</td>\n",
       "      <td>1</td>\n",
       "    </tr>\n",
       "    <tr>\n",
       "      <th>2637</th>\n",
       "      <td>https://www.nytimes.com/2022/10/20/technology/...</td>\n",
       "      <td>2022-10-20</td>\n",
       "      <td>Texas Sues Google for Collecting Biometric Dat...</td>\n",
       "      <td>José Castañeda, a Google spokesman, said in a ...</td>\n",
       "      <td>['GOOG']</td>\n",
       "      <td>['Alphabet Inc Class C']</td>\n",
       "      <td>['Google']</td>\n",
       "      <td>1</td>\n",
       "    </tr>\n",
       "    <tr>\n",
       "      <th>2638</th>\n",
       "      <td>https://www.nytimes.com/2022/10/25/technology/...</td>\n",
       "      <td>2022-10-25</td>\n",
       "      <td>Microsoft Reports Slowest Revenue Growth in Fi...</td>\n",
       "      <td>In the most recent quarter, softness in the gl...</td>\n",
       "      <td>['MSFT']</td>\n",
       "      <td>['Microsoft Corp']</td>\n",
       "      <td>['Microsoft']</td>\n",
       "      <td>1</td>\n",
       "    </tr>\n",
       "    <tr>\n",
       "      <th>2639</th>\n",
       "      <td>https://www.nytimes.com/2022/10/27/technology/...</td>\n",
       "      <td>2022-10-27</td>\n",
       "      <td>Apple’s iPhone Powers Growth, but Signs Point ...</td>\n",
       "      <td>When Apple released the 16th version of its iP...</td>\n",
       "      <td>['AAPL']</td>\n",
       "      <td>['Apple Inc']</td>\n",
       "      <td>['Apple']</td>\n",
       "      <td>1</td>\n",
       "    </tr>\n",
       "    <tr>\n",
       "      <th>2640</th>\n",
       "      <td>https://www.nytimes.com/2022/10/27/technology/...</td>\n",
       "      <td>2022-10-27</td>\n",
       "      <td>Amazon Returns to Growth but Signals Slowness ...</td>\n",
       "      <td>The results come amid a rocky patch for tech g...</td>\n",
       "      <td>['AMZN']</td>\n",
       "      <td>['Amazon.Com Inc.']</td>\n",
       "      <td>['Amazon']</td>\n",
       "      <td>1</td>\n",
       "    </tr>\n",
       "  </tbody>\n",
       "</table>\n",
       "<p>5130 rows × 8 columns</p>\n",
       "</div>"
      ],
      "text/plain": [
       "                                                    URL Publish Date  \\\n",
       "0     https://www.nytimes.com/2019/01/01/business/me...   2019-01-01   \n",
       "1     https://www.nytimes.com/2019/01/02/business/ju...   2019-01-02   \n",
       "2     https://www.nytimes.com/2019/01/02/business/te...   2019-01-02   \n",
       "3     https://www.nytimes.com/2019/01/03/business/de...   2019-01-03   \n",
       "4     https://www.nytimes.com/2019/01/03/business/de...   2019-01-03   \n",
       "...                                                 ...          ...   \n",
       "2636  https://www.nytimes.com/2022/10/18/technology/...   2022-10-18   \n",
       "2637  https://www.nytimes.com/2022/10/20/technology/...   2022-10-20   \n",
       "2638  https://www.nytimes.com/2022/10/25/technology/...   2022-10-25   \n",
       "2639  https://www.nytimes.com/2022/10/27/technology/...   2022-10-27   \n",
       "2640  https://www.nytimes.com/2022/10/27/technology/...   2022-10-27   \n",
       "\n",
       "                                                  Title  \\\n",
       "0     Netflix Blocks Show in Saudi Arabia Critical o...   \n",
       "1     Julie Sweet of Accenture Could See Her Future....   \n",
       "2     Tesla Reports Record Output, but Cuts Prices, ...   \n",
       "3     Bristol-Myers to Acquire Celgene in Deal Worth...   \n",
       "4     Was Apple’s Warning a Surprise? Not to Its Sup...   \n",
       "...                                                 ...   \n",
       "2636  Amazon Labor Union Loses Election at Warehouse...   \n",
       "2637  Texas Sues Google for Collecting Biometric Dat...   \n",
       "2638  Microsoft Reports Slowest Revenue Growth in Fi...   \n",
       "2639  Apple’s iPhone Powers Growth, but Signs Point ...   \n",
       "2640  Amazon Returns to Growth but Signals Slowness ...   \n",
       "\n",
       "                                              Main Text    Ticker  \\\n",
       "0     Netflix has blocked an episode of its show “Pa...  ['NFLX']   \n",
       "1     Why did you go to law school?\\n\\nI decided tha...   ['ACN']   \n",
       "2     Tesla shares ended trading nearly 7 percent lo...  ['TSLA']   \n",
       "3     Bristol-Myers Squibb said on Thursday that it ...   ['BMY']   \n",
       "4     Apple’s stock fell 10 percent on Thursday, its...  ['AAPL']   \n",
       "...                                                 ...       ...   \n",
       "2636  Mr. Smalls said the election “wasn’t free and ...  ['AMZN']   \n",
       "2637  José Castañeda, a Google spokesman, said in a ...  ['GOOG']   \n",
       "2638  In the most recent quarter, softness in the gl...  ['MSFT']   \n",
       "2639  When Apple released the 16th version of its iP...  ['AAPL']   \n",
       "2640  The results come amid a rocky patch for tech g...  ['AMZN']   \n",
       "\n",
       "                    Description           Name  Length  \n",
       "0               ['Netflix Inc']    ['NETFLIX']       1  \n",
       "1     ['Accenture Plc Class A']  ['ACCENTURE']       1  \n",
       "2                 ['Tesla Inc']      ['TESLA']       1  \n",
       "3      ['Bristol Myers Squibb']    ['BRISTOL']       1  \n",
       "4                 ['Apple Inc']      ['APPLE']       1  \n",
       "...                         ...            ...     ...  \n",
       "2636        ['Amazon.Com Inc.']     ['Amazon']       1  \n",
       "2637   ['Alphabet Inc Class C']     ['Google']       1  \n",
       "2638         ['Microsoft Corp']  ['Microsoft']       1  \n",
       "2639              ['Apple Inc']      ['Apple']       1  \n",
       "2640        ['Amazon.Com Inc.']     ['Amazon']       1  \n",
       "\n",
       "[5130 rows x 8 columns]"
      ]
     },
     "execution_count": 20,
     "metadata": {},
     "output_type": "execute_result"
    }
   ],
   "source": [
    "news_df = pd.concat([news_df1, news_df2])\n",
    "news_df"
   ]
  },
  {
   "cell_type": "code",
   "execution_count": 21,
   "id": "d0573e1d",
   "metadata": {
    "scrolled": true
   },
   "outputs": [
    {
     "data": {
      "text/html": [
       "<div>\n",
       "<style scoped>\n",
       "    .dataframe tbody tr th:only-of-type {\n",
       "        vertical-align: middle;\n",
       "    }\n",
       "\n",
       "    .dataframe tbody tr th {\n",
       "        vertical-align: top;\n",
       "    }\n",
       "\n",
       "    .dataframe thead th {\n",
       "        text-align: right;\n",
       "    }\n",
       "</style>\n",
       "<table border=\"1\" class=\"dataframe\">\n",
       "  <thead>\n",
       "    <tr style=\"text-align: right;\">\n",
       "      <th></th>\n",
       "      <th>URL</th>\n",
       "      <th>Publish Date</th>\n",
       "      <th>Title</th>\n",
       "      <th>Main Text</th>\n",
       "      <th>Ticker</th>\n",
       "      <th>Description</th>\n",
       "      <th>Name</th>\n",
       "      <th>Length</th>\n",
       "    </tr>\n",
       "  </thead>\n",
       "  <tbody>\n",
       "    <tr>\n",
       "      <th>0</th>\n",
       "      <td>https://www.nytimes.com/2019/01/01/business/me...</td>\n",
       "      <td>2019-01-01</td>\n",
       "      <td>Netflix Blocks Show in Saudi Arabia Critical o...</td>\n",
       "      <td>Netflix has blocked an episode of its show “Pa...</td>\n",
       "      <td>['NFLX']</td>\n",
       "      <td>['Netflix Inc']</td>\n",
       "      <td>['NETFLIX']</td>\n",
       "      <td>1</td>\n",
       "    </tr>\n",
       "    <tr>\n",
       "      <th>1</th>\n",
       "      <td>https://www.nytimes.com/2019/01/02/business/ju...</td>\n",
       "      <td>2019-01-02</td>\n",
       "      <td>Julie Sweet of Accenture Could See Her Future....</td>\n",
       "      <td>Why did you go to law school?\\n\\nI decided tha...</td>\n",
       "      <td>['ACN']</td>\n",
       "      <td>['Accenture Plc Class A']</td>\n",
       "      <td>['ACCENTURE']</td>\n",
       "      <td>1</td>\n",
       "    </tr>\n",
       "    <tr>\n",
       "      <th>2</th>\n",
       "      <td>https://www.nytimes.com/2019/01/02/business/te...</td>\n",
       "      <td>2019-01-02</td>\n",
       "      <td>Tesla Reports Record Output, but Cuts Prices, ...</td>\n",
       "      <td>Tesla shares ended trading nearly 7 percent lo...</td>\n",
       "      <td>['TSLA']</td>\n",
       "      <td>['Tesla Inc']</td>\n",
       "      <td>['TESLA']</td>\n",
       "      <td>1</td>\n",
       "    </tr>\n",
       "    <tr>\n",
       "      <th>3</th>\n",
       "      <td>https://www.nytimes.com/2019/01/03/business/de...</td>\n",
       "      <td>2019-01-03</td>\n",
       "      <td>Bristol-Myers to Acquire Celgene in Deal Worth...</td>\n",
       "      <td>Bristol-Myers Squibb said on Thursday that it ...</td>\n",
       "      <td>['BMY']</td>\n",
       "      <td>['Bristol Myers Squibb']</td>\n",
       "      <td>['BRISTOL']</td>\n",
       "      <td>1</td>\n",
       "    </tr>\n",
       "    <tr>\n",
       "      <th>4</th>\n",
       "      <td>https://www.nytimes.com/2019/01/03/business/de...</td>\n",
       "      <td>2019-01-03</td>\n",
       "      <td>Was Apple’s Warning a Surprise? Not to Its Sup...</td>\n",
       "      <td>Apple’s stock fell 10 percent on Thursday, its...</td>\n",
       "      <td>['AAPL']</td>\n",
       "      <td>['Apple Inc']</td>\n",
       "      <td>['APPLE']</td>\n",
       "      <td>1</td>\n",
       "    </tr>\n",
       "    <tr>\n",
       "      <th>...</th>\n",
       "      <td>...</td>\n",
       "      <td>...</td>\n",
       "      <td>...</td>\n",
       "      <td>...</td>\n",
       "      <td>...</td>\n",
       "      <td>...</td>\n",
       "      <td>...</td>\n",
       "      <td>...</td>\n",
       "    </tr>\n",
       "    <tr>\n",
       "      <th>2636</th>\n",
       "      <td>https://www.nytimes.com/2022/10/18/technology/...</td>\n",
       "      <td>2022-10-18</td>\n",
       "      <td>Amazon Labor Union Loses Election at Warehouse...</td>\n",
       "      <td>Mr. Smalls said the election “wasn’t free and ...</td>\n",
       "      <td>['AMZN']</td>\n",
       "      <td>['Amazon.Com Inc.']</td>\n",
       "      <td>['Amazon']</td>\n",
       "      <td>1</td>\n",
       "    </tr>\n",
       "    <tr>\n",
       "      <th>2637</th>\n",
       "      <td>https://www.nytimes.com/2022/10/20/technology/...</td>\n",
       "      <td>2022-10-20</td>\n",
       "      <td>Texas Sues Google for Collecting Biometric Dat...</td>\n",
       "      <td>José Castañeda, a Google spokesman, said in a ...</td>\n",
       "      <td>['GOOG']</td>\n",
       "      <td>['Alphabet Inc Class C']</td>\n",
       "      <td>['Google']</td>\n",
       "      <td>1</td>\n",
       "    </tr>\n",
       "    <tr>\n",
       "      <th>2638</th>\n",
       "      <td>https://www.nytimes.com/2022/10/25/technology/...</td>\n",
       "      <td>2022-10-25</td>\n",
       "      <td>Microsoft Reports Slowest Revenue Growth in Fi...</td>\n",
       "      <td>In the most recent quarter, softness in the gl...</td>\n",
       "      <td>['MSFT']</td>\n",
       "      <td>['Microsoft Corp']</td>\n",
       "      <td>['Microsoft']</td>\n",
       "      <td>1</td>\n",
       "    </tr>\n",
       "    <tr>\n",
       "      <th>2639</th>\n",
       "      <td>https://www.nytimes.com/2022/10/27/technology/...</td>\n",
       "      <td>2022-10-27</td>\n",
       "      <td>Apple’s iPhone Powers Growth, but Signs Point ...</td>\n",
       "      <td>When Apple released the 16th version of its iP...</td>\n",
       "      <td>['AAPL']</td>\n",
       "      <td>['Apple Inc']</td>\n",
       "      <td>['Apple']</td>\n",
       "      <td>1</td>\n",
       "    </tr>\n",
       "    <tr>\n",
       "      <th>2640</th>\n",
       "      <td>https://www.nytimes.com/2022/10/27/technology/...</td>\n",
       "      <td>2022-10-27</td>\n",
       "      <td>Amazon Returns to Growth but Signals Slowness ...</td>\n",
       "      <td>The results come amid a rocky patch for tech g...</td>\n",
       "      <td>['AMZN']</td>\n",
       "      <td>['Amazon.Com Inc.']</td>\n",
       "      <td>['Amazon']</td>\n",
       "      <td>1</td>\n",
       "    </tr>\n",
       "  </tbody>\n",
       "</table>\n",
       "<p>4825 rows × 8 columns</p>\n",
       "</div>"
      ],
      "text/plain": [
       "                                                    URL Publish Date  \\\n",
       "0     https://www.nytimes.com/2019/01/01/business/me...   2019-01-01   \n",
       "1     https://www.nytimes.com/2019/01/02/business/ju...   2019-01-02   \n",
       "2     https://www.nytimes.com/2019/01/02/business/te...   2019-01-02   \n",
       "3     https://www.nytimes.com/2019/01/03/business/de...   2019-01-03   \n",
       "4     https://www.nytimes.com/2019/01/03/business/de...   2019-01-03   \n",
       "...                                                 ...          ...   \n",
       "2636  https://www.nytimes.com/2022/10/18/technology/...   2022-10-18   \n",
       "2637  https://www.nytimes.com/2022/10/20/technology/...   2022-10-20   \n",
       "2638  https://www.nytimes.com/2022/10/25/technology/...   2022-10-25   \n",
       "2639  https://www.nytimes.com/2022/10/27/technology/...   2022-10-27   \n",
       "2640  https://www.nytimes.com/2022/10/27/technology/...   2022-10-27   \n",
       "\n",
       "                                                  Title  \\\n",
       "0     Netflix Blocks Show in Saudi Arabia Critical o...   \n",
       "1     Julie Sweet of Accenture Could See Her Future....   \n",
       "2     Tesla Reports Record Output, but Cuts Prices, ...   \n",
       "3     Bristol-Myers to Acquire Celgene in Deal Worth...   \n",
       "4     Was Apple’s Warning a Surprise? Not to Its Sup...   \n",
       "...                                                 ...   \n",
       "2636  Amazon Labor Union Loses Election at Warehouse...   \n",
       "2637  Texas Sues Google for Collecting Biometric Dat...   \n",
       "2638  Microsoft Reports Slowest Revenue Growth in Fi...   \n",
       "2639  Apple’s iPhone Powers Growth, but Signs Point ...   \n",
       "2640  Amazon Returns to Growth but Signals Slowness ...   \n",
       "\n",
       "                                              Main Text    Ticker  \\\n",
       "0     Netflix has blocked an episode of its show “Pa...  ['NFLX']   \n",
       "1     Why did you go to law school?\\n\\nI decided tha...   ['ACN']   \n",
       "2     Tesla shares ended trading nearly 7 percent lo...  ['TSLA']   \n",
       "3     Bristol-Myers Squibb said on Thursday that it ...   ['BMY']   \n",
       "4     Apple’s stock fell 10 percent on Thursday, its...  ['AAPL']   \n",
       "...                                                 ...       ...   \n",
       "2636  Mr. Smalls said the election “wasn’t free and ...  ['AMZN']   \n",
       "2637  José Castañeda, a Google spokesman, said in a ...  ['GOOG']   \n",
       "2638  In the most recent quarter, softness in the gl...  ['MSFT']   \n",
       "2639  When Apple released the 16th version of its iP...  ['AAPL']   \n",
       "2640  The results come amid a rocky patch for tech g...  ['AMZN']   \n",
       "\n",
       "                    Description           Name  Length  \n",
       "0               ['Netflix Inc']    ['NETFLIX']       1  \n",
       "1     ['Accenture Plc Class A']  ['ACCENTURE']       1  \n",
       "2                 ['Tesla Inc']      ['TESLA']       1  \n",
       "3      ['Bristol Myers Squibb']    ['BRISTOL']       1  \n",
       "4                 ['Apple Inc']      ['APPLE']       1  \n",
       "...                         ...            ...     ...  \n",
       "2636        ['Amazon.Com Inc.']     ['Amazon']       1  \n",
       "2637   ['Alphabet Inc Class C']     ['Google']       1  \n",
       "2638         ['Microsoft Corp']  ['Microsoft']       1  \n",
       "2639              ['Apple Inc']      ['Apple']       1  \n",
       "2640        ['Amazon.Com Inc.']     ['Amazon']       1  \n",
       "\n",
       "[4825 rows x 8 columns]"
      ]
     },
     "execution_count": 21,
     "metadata": {},
     "output_type": "execute_result"
    }
   ],
   "source": [
    "news_df = news_df[news_df['Length'] == 1]\n",
    "news_df"
   ]
  },
  {
   "cell_type": "markdown",
   "id": "c01f8d56",
   "metadata": {},
   "source": [
    "# 2. 기업별 상장일 이전에 나온 뉴스 삭제"
   ]
  },
  {
   "cell_type": "code",
   "execution_count": 22,
   "id": "ba331add",
   "metadata": {},
   "outputs": [],
   "source": [
    "stock_path = '/Users/parkjunhyeong/Desktop/박준형/02. 대내 및 대외활동/01. 대내활동/03. Biz&AI 랩/02. 소스/01. 데이터/04. 주가 데이터'\n",
    "\n",
    "companies = os.listdir('/Users/parkjunhyeong/Desktop/박준형/02. 대내 및 대외활동/01. 대내활동/03. Biz&AI 랩/02. 소스/01. 데이터/04. 주가 데이터')"
   ]
  },
  {
   "cell_type": "code",
   "execution_count": 23,
   "id": "059a9405",
   "metadata": {},
   "outputs": [
    {
     "data": {
      "text/plain": [
       "220"
      ]
     },
     "execution_count": 23,
     "metadata": {},
     "output_type": "execute_result"
    }
   ],
   "source": [
    "len(companies)"
   ]
  },
  {
   "cell_type": "code",
   "execution_count": null,
   "id": "3a1bb065",
   "metadata": {},
   "outputs": [
    {
     "name": "stderr",
     "output_type": "stream",
     "text": [
      "/var/folders/z6/nn0fl27x39547ybzc5y11s8m0000gn/T/ipykernel_10873/3828410123.py:1: SettingWithCopyWarning: \n",
      "A value is trying to be set on a copy of a slice from a DataFrame.\n",
      "Try using .loc[row_indexer,col_indexer] = value instead\n",
      "\n",
      "See the caveats in the documentation: https://pandas.pydata.org/pandas-docs/stable/user_guide/indexing.html#returning-a-view-versus-a-copy\n",
      "  news_df['Date Comparison'] = True\n",
      " 97%|█████████████████████████████████████ | 4702/4825 [00:07<00:00, 676.12it/s]"
     ]
    }
   ],
   "source": [
    "news_df['Date Comparison'] = True\n",
    "\n",
    "for i in tqdm(range(len(news_df))):\n",
    "    #뉴스 데이터에서 필요 정보 가져오기\n",
    "    ticker = eval(news_df.iloc[i, 4])[0]\n",
    "    publish_date = news_df.iloc[i, 1]\n",
    "    publish_date = datetime(int(publish_date[:4]), int(publish_date[5:7]), int(publish_date[8:10]))\n",
    "    #주가 데이터에서 필요 정보 가져오기\n",
    "    stock_df = pd.read_csv(stock_path + '/' + ticker + '.csv')\n",
    "    start_date = stock_df.iloc[0,0]\n",
    "    start_date = datetime(int(start_date[:4]), int(start_date[5:7]), int(start_date[8:10]))\n",
    "    \n",
    "    if start_date >= publish_date:\n",
    "        news_df.iloc[i, -1] = False\n",
    "    else: \n",
    "        pass"
   ]
  },
  {
   "cell_type": "code",
   "execution_count": 11,
   "id": "0cbe27ae",
   "metadata": {
    "scrolled": true
   },
   "outputs": [
    {
     "data": {
      "text/plain": [
       "True     4567\n",
       "False     258\n",
       "Name: Date Comparison, dtype: int64"
      ]
     },
     "execution_count": 11,
     "metadata": {},
     "output_type": "execute_result"
    }
   ],
   "source": [
    "news_df['Date Comparison'].value_counts()"
   ]
  },
  {
   "cell_type": "markdown",
   "id": "b995bfeb",
   "metadata": {},
   "source": [
    "# 3. 날짜별 Stock Price Excess Return 계산하기"
   ]
  },
  {
   "cell_type": "code",
   "execution_count": 12,
   "id": "70914300",
   "metadata": {},
   "outputs": [],
   "source": [
    "Market_df = pd.read_csv('/Users/parkjunhyeong/Desktop/박준형/02. 대내 및 대외활동/01. 대내활동/03. Biz&AI 랩/02. 소스/01. 데이터/01. 메타 데이터/F-F_Research_Data_Factors_daily.CSV')\n",
    "Market_df.dropna(inplace = True)\n",
    "Market_df['Date'] = Market_df['Date'].apply(lambda x : x[:4] + '-' + x[4:6] + '-' + x[6:])"
   ]
  },
  {
   "cell_type": "code",
   "execution_count": 13,
   "id": "c821843b",
   "metadata": {},
   "outputs": [
    {
     "name": "stderr",
     "output_type": "stream",
     "text": [
      "/var/folders/z6/nn0fl27x39547ybzc5y11s8m0000gn/T/ipykernel_10873/3172078703.py:1: SettingWithCopyWarning: \n",
      "A value is trying to be set on a copy of a slice from a DataFrame.\n",
      "Try using .loc[row_indexer,col_indexer] = value instead\n",
      "\n",
      "See the caveats in the documentation: https://pandas.pydata.org/pandas-docs/stable/user_guide/indexing.html#returning-a-view-versus-a-copy\n",
      "  news_df['Investor Reaction'] = 0\n"
     ]
    }
   ],
   "source": [
    "news_df['Investor Reaction'] = 0"
   ]
  },
  {
   "cell_type": "code",
   "execution_count": 14,
   "id": "5c70c80e",
   "metadata": {},
   "outputs": [
    {
     "name": "stderr",
     "output_type": "stream",
     "text": [
      "100%|███████████████████████████████████████| 4825/4825 [00:49<00:00, 97.79it/s]\n"
     ]
    }
   ],
   "source": [
    "for i in tqdm(range(len(news_df))):\n",
    "    try:\n",
    "        if news_df.iloc[i, -2] == False:\n",
    "            pass\n",
    "        else:\n",
    "            ticker = eval(news_df.iloc[i, 4])[0]\n",
    "            publish_date = news_df.iloc[i, 1]\n",
    "            #주가 데이터에서 필요 정보 가져오기\n",
    "            stock_df = pd.read_csv(stock_path + '/' + ticker + '.csv')\n",
    "            #news publish date와 일치하는 영업일이 있는 경우\n",
    "            if publish_date in list(stock_df['Date']):\n",
    "                ER_total = 0\n",
    "                for j in range(5):\n",
    "                    #Return 계산\n",
    "                    index1 = stock_df[stock_df['Date'] == publish_date].index\n",
    "                    Return = (float(stock_df.loc[index1 + j, 'Close']) - float(stock_df.loc[index1 + j - 1, 'Close'])) / float(stock_df.loc[index1 + j - 1, 'Close'])\n",
    "                    #Market Rate of Return 계산\n",
    "                    index2 = Market_df[Market_df['Date'] == publish_date].index\n",
    "                    Market_Return = float(Market_df.loc[index2 + j, 'Mkt-RF']) + float(Market_df.loc[index2 + j, 'RF'])\n",
    "                    #Excess Return 계산\n",
    "                    ER = math.log10(1 + (Return - Market_Return) / 10)\n",
    "                    ER_total += ER\n",
    "                news_df.iloc[i,-1] = ER_total\n",
    "            #news publish date와 일치하는 영업일이 없는 경우\n",
    "            else:\n",
    "                publish_datetime = datetime(int(publish_date[:4]), int(publish_date[5:7]), int(publish_date[8:10]))\n",
    "                for k in range(10):\n",
    "                    if (publish_datetime + timedelta(days = k)).strftime(\"%Y-%m-%d\") in list(stock_df['Date']):\n",
    "                        publish_date = (publish_datetime + timedelta(days = k)).strftime(\"%Y-%m-%d\")\n",
    "                        break\n",
    "                ER_total = 0\n",
    "                for j in range(5):\n",
    "                    #Return 계산\n",
    "                    index1 = stock_df[stock_df['Date'] == publish_date].index\n",
    "                    Return = (float(stock_df.loc[index1 + j, 'Close']) - float(stock_df.loc[index1 + j - 1, 'Close'])) / float(stock_df.loc[index1 + j - 1, 'Close'])\n",
    "                    #Market Rate of Return 계산\n",
    "                    index2 = Market_df[Market_df['Date'] == publish_date].index\n",
    "                    Market_Return = float(Market_df.loc[index2 + j, 'Mkt-RF']) + float(Market_df.loc[index2 + j, 'RF'])\n",
    "                    #Excess Return 계산\n",
    "                    ER = math.log10(1 + (Return - Market_Return) / 10)\n",
    "                    ER_total += ER\n",
    "                news_df.iloc[i,-1] = ER_total\n",
    "                \n",
    "    except Exception as e :\n",
    "        print(ticker, publish_date)\n",
    "        print(e)\n",
    "        pass"
   ]
  },
  {
   "cell_type": "code",
   "execution_count": 150,
   "id": "445e83b9",
   "metadata": {
    "scrolled": true
   },
   "outputs": [],
   "source": [
    "news_df.to_excel('/Users/parkjunhyeong/Desktop/temp.xlsx')"
   ]
  },
  {
   "cell_type": "code",
   "execution_count": null,
   "id": "1e350750",
   "metadata": {},
   "outputs": [],
   "source": []
  }
 ],
 "metadata": {
  "kernelspec": {
   "display_name": "Python 3 (ipykernel)",
   "language": "python",
   "name": "python3"
  },
  "language_info": {
   "codemirror_mode": {
    "name": "ipython",
    "version": 3
   },
   "file_extension": ".py",
   "mimetype": "text/x-python",
   "name": "python",
   "nbconvert_exporter": "python",
   "pygments_lexer": "ipython3",
   "version": "3.9.15"
  }
 },
 "nbformat": 4,
 "nbformat_minor": 5
}
