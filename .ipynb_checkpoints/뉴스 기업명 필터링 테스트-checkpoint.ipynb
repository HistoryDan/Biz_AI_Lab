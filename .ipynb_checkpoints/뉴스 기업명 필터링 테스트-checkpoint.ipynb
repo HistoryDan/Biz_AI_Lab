{
 "cells": [
  {
   "cell_type": "code",
   "execution_count": 1,
   "id": "36aefa98",
   "metadata": {},
   "outputs": [],
   "source": [
    "import pandas as pd\n",
    "import numpy as np"
   ]
  },
  {
   "cell_type": "code",
   "execution_count": 2,
   "id": "1c6ecc71",
   "metadata": {},
   "outputs": [],
   "source": [
    "df = pd.read_csv('/Users/parkjunhyeong/Desktop/nytimes_biz_ver0.3.csv', index_col = 0)"
   ]
  },
  {
   "cell_type": "code",
   "execution_count": 305,
   "id": "475d61b0",
   "metadata": {
    "scrolled": true
   },
   "outputs": [
    {
     "name": "stdout",
     "output_type": "stream",
     "text": [
      "Edward C. Johnson III, 91, Dies; Made Fidelity an Investment Giant\n",
      "Fidelity’s New 401(k) Offering Will Invest in Bitcoin\n"
     ]
    }
   ],
   "source": [
    "count = 0\n",
    "company = 'FIDELITY' #기업명 \n",
    "\n",
    "for i in range(len(df)):\n",
    "    if company in df['title'][i].upper():\n",
    "        print(df['title'][i])\n",
    "        count += 1"
   ]
  },
  {
   "cell_type": "code",
   "execution_count": 306,
   "id": "64edc8fc",
   "metadata": {},
   "outputs": [
    {
     "data": {
      "text/plain": [
       "2"
      ]
     },
     "execution_count": 306,
     "metadata": {},
     "output_type": "execute_result"
    }
   ],
   "source": [
    "count"
   ]
  },
  {
   "cell_type": "code",
   "execution_count": null,
   "id": "a71e3522",
   "metadata": {},
   "outputs": [],
   "source": []
  },
  {
   "cell_type": "code",
   "execution_count": null,
   "id": "04f40c1d",
   "metadata": {},
   "outputs": [],
   "source": []
  },
  {
   "cell_type": "raw",
   "id": "e53f6167",
   "metadata": {},
   "source": []
  }
 ],
 "metadata": {
  "kernelspec": {
   "display_name": "Python 3 (ipykernel)",
   "language": "python",
   "name": "python3"
  },
  "language_info": {
   "codemirror_mode": {
    "name": "ipython",
    "version": 3
   },
   "file_extension": ".py",
   "mimetype": "text/x-python",
   "name": "python",
   "nbconvert_exporter": "python",
   "pygments_lexer": "ipython3",
   "version": "3.9.12"
  }
 },
 "nbformat": 4,
 "nbformat_minor": 5
}
