{
 "cells": [
  {
   "cell_type": "code",
   "execution_count": 2,
   "id": "fb3faa3a",
   "metadata": {},
   "outputs": [],
   "source": [
    "import os\n",
    "import numpy as np \n",
    "import pandas as pd\n",
    "from tqdm import tqdm"
   ]
  },
  {
   "cell_type": "markdown",
   "id": "ea39b4fa",
   "metadata": {},
   "source": [
    "# 1. 트위터 데이터 정제하기"
   ]
  },
  {
   "cell_type": "code",
   "execution_count": 3,
   "id": "f91a0af3",
   "metadata": {},
   "outputs": [],
   "source": [
    "file_path = '/Users/parkjunhyeong/Desktop/박준형/02. 대내 및 대외활동/01. 대내활동/03. Biz&AI 랩/02. 소스/01. 데이터/03. 트위터 데이터/03. Selected Data'\n",
    "save_path = '/Users/parkjunhyeong/Desktop/박준형/02. 대내 및 대외활동/01. 대내활동/03. Biz&AI 랩/02. 소스/01. 데이터/03. 트위터 데이터/04. Selected Data'"
   ]
  },
  {
   "cell_type": "code",
   "execution_count": 4,
   "id": "2446f36a",
   "metadata": {},
   "outputs": [
    {
     "data": {
      "text/plain": [
       "['HOG.csv', 'WE.csv', 'GM.csv', 'PINS.csv', 'NVDA.csv', 'CLX.csv', 'TMUS.csv']"
      ]
     },
     "execution_count": 4,
     "metadata": {},
     "output_type": "execute_result"
    }
   ],
   "source": [
    "l1 = os.listdir(file_path)\n",
    "l2 = os.listdir(save_path)\n",
    "l1 = [l for l in l1 if l not in l2]\n",
    "l1"
   ]
  },
  {
   "cell_type": "code",
   "execution_count": 41,
   "id": "7331442d",
   "metadata": {},
   "outputs": [],
   "source": [
    "f = 'WE.csv'\n",
    "data_types = {'datetime' : 'str',\n",
    "             'content' : 'str',\n",
    "             'username' : 'str'}\n",
    "\n",
    "df = pd.read_csv( file_path + '/' + f, index_col = 0, dtype = data_types)"
   ]
  },
  {
   "cell_type": "code",
   "execution_count": 42,
   "id": "9e3ee678",
   "metadata": {},
   "outputs": [
    {
     "data": {
      "text/html": [
       "<div>\n",
       "<style scoped>\n",
       "    .dataframe tbody tr th:only-of-type {\n",
       "        vertical-align: middle;\n",
       "    }\n",
       "\n",
       "    .dataframe tbody tr th {\n",
       "        vertical-align: top;\n",
       "    }\n",
       "\n",
       "    .dataframe thead th {\n",
       "        text-align: right;\n",
       "    }\n",
       "</style>\n",
       "<table border=\"1\" class=\"dataframe\">\n",
       "  <thead>\n",
       "    <tr style=\"text-align: right;\">\n",
       "      <th></th>\n",
       "      <th>datetime</th>\n",
       "      <th>content</th>\n",
       "      <th>username</th>\n",
       "    </tr>\n",
       "  </thead>\n",
       "  <tbody>\n",
       "    <tr>\n",
       "      <th>0</th>\n",
       "      <td>2018-01-01 00:45:15+00:00</td>\n",
       "      <td>3 Skills Every Content Marketer Needs https://...</td>\n",
       "      <td>TheRyanRobinson</td>\n",
       "    </tr>\n",
       "    <tr>\n",
       "      <th>1</th>\n",
       "      <td>2018-01-01 01:56:01+00:00</td>\n",
       "      <td>My IG #bestnine2017 featuring cherry blossoms ...</td>\n",
       "      <td>ijeomasnwatu</td>\n",
       "    </tr>\n",
       "    <tr>\n",
       "      <th>2</th>\n",
       "      <td>2018-01-01 09:29:19+00:00</td>\n",
       "      <td>Quiet evening celebrating #NewYearsEve2018 at ...</td>\n",
       "      <td>TheJenAmos</td>\n",
       "    </tr>\n",
       "    <tr>\n",
       "      <th>3</th>\n",
       "      <td>2018-01-01 14:01:19+00:00</td>\n",
       "      <td>@WeWork Let’s rock it!</td>\n",
       "      <td>davidricca</td>\n",
       "    </tr>\n",
       "    <tr>\n",
       "      <th>4</th>\n",
       "      <td>2018-01-01 14:02:43+00:00</td>\n",
       "      <td>Here's our first #FemforceFave for 2018. @WeWo...</td>\n",
       "      <td>eileenbchen</td>\n",
       "    </tr>\n",
       "    <tr>\n",
       "      <th>...</th>\n",
       "      <td>...</td>\n",
       "      <td>...</td>\n",
       "      <td>...</td>\n",
       "    </tr>\n",
       "    <tr>\n",
       "      <th>170391</th>\n",
       "      <td>2022-10-11 20:02:17+00:00</td>\n",
       "      <td>@WeWork @object0riented i love you too but lem...</td>\n",
       "      <td>sanjimu_</td>\n",
       "    </tr>\n",
       "    <tr>\n",
       "      <th>170392</th>\n",
       "      <td>2022-10-11 20:02:40+00:00</td>\n",
       "      <td>@sanjimu_ @WeWork wait same tho</td>\n",
       "      <td>object0riented</td>\n",
       "    </tr>\n",
       "    <tr>\n",
       "      <th>170393</th>\n",
       "      <td>2022-10-11 20:16:05+00:00</td>\n",
       "      <td>Did you know that @aloyoga @AnheuserBusch and ...</td>\n",
       "      <td>TheBus37643251</td>\n",
       "    </tr>\n",
       "    <tr>\n",
       "      <th>170394</th>\n",
       "      <td>2022-10-11 20:53:28+00:00</td>\n",
       "      <td>.@WeWork is now marketing its 457,000-square-f...</td>\n",
       "      <td>trdsocal</td>\n",
       "    </tr>\n",
       "    <tr>\n",
       "      <th>170395</th>\n",
       "      <td>2022-10-11 21:06:40+00:00</td>\n",
       "      <td>@trdsocal @WeWork @MattN365 Why rent physical ...</td>\n",
       "      <td>marketplunger1</td>\n",
       "    </tr>\n",
       "  </tbody>\n",
       "</table>\n",
       "<p>170396 rows × 3 columns</p>\n",
       "</div>"
      ],
      "text/plain": [
       "                         datetime  \\\n",
       "0       2018-01-01 00:45:15+00:00   \n",
       "1       2018-01-01 01:56:01+00:00   \n",
       "2       2018-01-01 09:29:19+00:00   \n",
       "3       2018-01-01 14:01:19+00:00   \n",
       "4       2018-01-01 14:02:43+00:00   \n",
       "...                           ...   \n",
       "170391  2022-10-11 20:02:17+00:00   \n",
       "170392  2022-10-11 20:02:40+00:00   \n",
       "170393  2022-10-11 20:16:05+00:00   \n",
       "170394  2022-10-11 20:53:28+00:00   \n",
       "170395  2022-10-11 21:06:40+00:00   \n",
       "\n",
       "                                                  content         username  \n",
       "0       3 Skills Every Content Marketer Needs https://...  TheRyanRobinson  \n",
       "1       My IG #bestnine2017 featuring cherry blossoms ...     ijeomasnwatu  \n",
       "2       Quiet evening celebrating #NewYearsEve2018 at ...       TheJenAmos  \n",
       "3                                  @WeWork Let’s rock it!       davidricca  \n",
       "4       Here's our first #FemforceFave for 2018. @WeWo...      eileenbchen  \n",
       "...                                                   ...              ...  \n",
       "170391  @WeWork @object0riented i love you too but lem...         sanjimu_  \n",
       "170392                    @sanjimu_ @WeWork wait same tho   object0riented  \n",
       "170393  Did you know that @aloyoga @AnheuserBusch and ...   TheBus37643251  \n",
       "170394  .@WeWork is now marketing its 457,000-square-f...         trdsocal  \n",
       "170395  @trdsocal @WeWork @MattN365 Why rent physical ...   marketplunger1  \n",
       "\n",
       "[170396 rows x 3 columns]"
      ]
     },
     "execution_count": 42,
     "metadata": {},
     "output_type": "execute_result"
    }
   ],
   "source": [
    "df"
   ]
  },
  {
   "cell_type": "code",
   "execution_count": 43,
   "id": "ca051dbc",
   "metadata": {},
   "outputs": [],
   "source": [
    "df.dropna(inplace = True)\n",
    "df.drop_duplicates(inplace = True, subset = ['content', 'username'])#도배 게시물 제거\n",
    "#df = df[df['username'].apply(lambda x : 'MS' not in x)]\n",
    "df.sort_values('datetime', inplace = True)\n",
    "df.reset_index(inplace = True, drop = True)"
   ]
  },
  {
   "cell_type": "code",
   "execution_count": 44,
   "id": "5879bec6",
   "metadata": {},
   "outputs": [
    {
     "data": {
      "text/html": [
       "<div>\n",
       "<style scoped>\n",
       "    .dataframe tbody tr th:only-of-type {\n",
       "        vertical-align: middle;\n",
       "    }\n",
       "\n",
       "    .dataframe tbody tr th {\n",
       "        vertical-align: top;\n",
       "    }\n",
       "\n",
       "    .dataframe thead th {\n",
       "        text-align: right;\n",
       "    }\n",
       "</style>\n",
       "<table border=\"1\" class=\"dataframe\">\n",
       "  <thead>\n",
       "    <tr style=\"text-align: right;\">\n",
       "      <th></th>\n",
       "      <th>datetime</th>\n",
       "      <th>content</th>\n",
       "      <th>username</th>\n",
       "    </tr>\n",
       "  </thead>\n",
       "  <tbody>\n",
       "    <tr>\n",
       "      <th>0</th>\n",
       "      <td>2018-01-01 00:45:15+00:00</td>\n",
       "      <td>3 Skills Every Content Marketer Needs https://...</td>\n",
       "      <td>TheRyanRobinson</td>\n",
       "    </tr>\n",
       "    <tr>\n",
       "      <th>1</th>\n",
       "      <td>2018-01-01 01:56:01+00:00</td>\n",
       "      <td>My IG #bestnine2017 featuring cherry blossoms ...</td>\n",
       "      <td>ijeomasnwatu</td>\n",
       "    </tr>\n",
       "    <tr>\n",
       "      <th>2</th>\n",
       "      <td>2018-01-01 09:29:19+00:00</td>\n",
       "      <td>Quiet evening celebrating #NewYearsEve2018 at ...</td>\n",
       "      <td>TheJenAmos</td>\n",
       "    </tr>\n",
       "    <tr>\n",
       "      <th>3</th>\n",
       "      <td>2018-01-01 14:01:19+00:00</td>\n",
       "      <td>@WeWork Let’s rock it!</td>\n",
       "      <td>davidricca</td>\n",
       "    </tr>\n",
       "    <tr>\n",
       "      <th>4</th>\n",
       "      <td>2018-01-01 14:02:43+00:00</td>\n",
       "      <td>Here's our first #FemforceFave for 2018. @WeWo...</td>\n",
       "      <td>eileenbchen</td>\n",
       "    </tr>\n",
       "    <tr>\n",
       "      <th>...</th>\n",
       "      <td>...</td>\n",
       "      <td>...</td>\n",
       "      <td>...</td>\n",
       "    </tr>\n",
       "    <tr>\n",
       "      <th>115438</th>\n",
       "      <td>2022-10-11 20:02:17+00:00</td>\n",
       "      <td>@WeWork @object0riented i love you too but lem...</td>\n",
       "      <td>sanjimu_</td>\n",
       "    </tr>\n",
       "    <tr>\n",
       "      <th>115439</th>\n",
       "      <td>2022-10-11 20:02:40+00:00</td>\n",
       "      <td>@sanjimu_ @WeWork wait same tho</td>\n",
       "      <td>object0riented</td>\n",
       "    </tr>\n",
       "    <tr>\n",
       "      <th>115440</th>\n",
       "      <td>2022-10-11 20:16:05+00:00</td>\n",
       "      <td>Did you know that @aloyoga @AnheuserBusch and ...</td>\n",
       "      <td>TheBus37643251</td>\n",
       "    </tr>\n",
       "    <tr>\n",
       "      <th>115441</th>\n",
       "      <td>2022-10-11 20:53:28+00:00</td>\n",
       "      <td>.@WeWork is now marketing its 457,000-square-f...</td>\n",
       "      <td>trdsocal</td>\n",
       "    </tr>\n",
       "    <tr>\n",
       "      <th>115442</th>\n",
       "      <td>2022-10-11 21:06:40+00:00</td>\n",
       "      <td>@trdsocal @WeWork @MattN365 Why rent physical ...</td>\n",
       "      <td>marketplunger1</td>\n",
       "    </tr>\n",
       "  </tbody>\n",
       "</table>\n",
       "<p>115443 rows × 3 columns</p>\n",
       "</div>"
      ],
      "text/plain": [
       "                         datetime  \\\n",
       "0       2018-01-01 00:45:15+00:00   \n",
       "1       2018-01-01 01:56:01+00:00   \n",
       "2       2018-01-01 09:29:19+00:00   \n",
       "3       2018-01-01 14:01:19+00:00   \n",
       "4       2018-01-01 14:02:43+00:00   \n",
       "...                           ...   \n",
       "115438  2022-10-11 20:02:17+00:00   \n",
       "115439  2022-10-11 20:02:40+00:00   \n",
       "115440  2022-10-11 20:16:05+00:00   \n",
       "115441  2022-10-11 20:53:28+00:00   \n",
       "115442  2022-10-11 21:06:40+00:00   \n",
       "\n",
       "                                                  content         username  \n",
       "0       3 Skills Every Content Marketer Needs https://...  TheRyanRobinson  \n",
       "1       My IG #bestnine2017 featuring cherry blossoms ...     ijeomasnwatu  \n",
       "2       Quiet evening celebrating #NewYearsEve2018 at ...       TheJenAmos  \n",
       "3                                  @WeWork Let’s rock it!       davidricca  \n",
       "4       Here's our first #FemforceFave for 2018. @WeWo...      eileenbchen  \n",
       "...                                                   ...              ...  \n",
       "115438  @WeWork @object0riented i love you too but lem...         sanjimu_  \n",
       "115439                    @sanjimu_ @WeWork wait same tho   object0riented  \n",
       "115440  Did you know that @aloyoga @AnheuserBusch and ...   TheBus37643251  \n",
       "115441  .@WeWork is now marketing its 457,000-square-f...         trdsocal  \n",
       "115442  @trdsocal @WeWork @MattN365 Why rent physical ...   marketplunger1  \n",
       "\n",
       "[115443 rows x 3 columns]"
      ]
     },
     "execution_count": 44,
     "metadata": {},
     "output_type": "execute_result"
    }
   ],
   "source": [
    "df"
   ]
  },
  {
   "cell_type": "code",
   "execution_count": 45,
   "id": "86d77224",
   "metadata": {},
   "outputs": [
    {
     "name": "stdout",
     "output_type": "stream",
     "text": [
      "@trdsocal @WeWork @MattN365 Why rent physical space when you can rent in the Metaverse?\n",
      "<class 'str'>\n"
     ]
    }
   ],
   "source": [
    "print(df.iloc[-1,1])\n",
    "print(type(df.iloc[0,0]))"
   ]
  },
  {
   "cell_type": "code",
   "execution_count": 46,
   "id": "8a8c43f2",
   "metadata": {},
   "outputs": [],
   "source": [
    "df.to_csv(save_path + '/' + f)"
   ]
  },
  {
   "cell_type": "code",
   "execution_count": 10,
   "id": "187692c5",
   "metadata": {},
   "outputs": [],
   "source": [
    "#df[df['content'].apply(lambda x: x.count('@') == 1)]"
   ]
  },
  {
   "cell_type": "code",
   "execution_count": null,
   "id": "d9025da4",
   "metadata": {},
   "outputs": [],
   "source": []
  }
 ],
 "metadata": {
  "kernelspec": {
   "display_name": "Python 3 (ipykernel)",
   "language": "python",
   "name": "python3"
  },
  "language_info": {
   "codemirror_mode": {
    "name": "ipython",
    "version": 3
   },
   "file_extension": ".py",
   "mimetype": "text/x-python",
   "name": "python",
   "nbconvert_exporter": "python",
   "pygments_lexer": "ipython3",
   "version": "3.9.15"
  }
 },
 "nbformat": 4,
 "nbformat_minor": 5
}
