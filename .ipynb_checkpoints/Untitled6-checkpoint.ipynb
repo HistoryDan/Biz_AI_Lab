{
 "cells": [
  {
   "cell_type": "markdown",
   "id": "d301ba9f",
   "metadata": {},
   "source": [
    "# Consumer Perception 계산하기"
   ]
  },
  {
   "cell_type": "code",
   "execution_count": 4,
   "id": "7a5db7c2",
   "metadata": {},
   "outputs": [],
   "source": [
    "import pandas as pd\n",
    "import numpy as np\n",
    "import os\n",
    "from tqdm import tqdm\n",
    "from datetime import datetime, timedelta\n",
    "import warnings\n",
    "warnings.filterwarnings('ignore')"
   ]
  },
  {
   "cell_type": "code",
   "execution_count": 6,
   "id": "91d642d6",
   "metadata": {},
   "outputs": [],
   "source": [
    "news_df = pd.read_csv('/Users/parkjunhyeong/Desktop/Composed_Data_ver0.1.csv',index_col = 0)"
   ]
  },
  {
   "cell_type": "code",
   "execution_count": 7,
   "id": "07648400",
   "metadata": {},
   "outputs": [
    {
     "data": {
      "text/plain": [
       "220"
      ]
     },
     "execution_count": 7,
     "metadata": {},
     "output_type": "execute_result"
    }
   ],
   "source": [
    "companies = os.listdir('/Users/parkjunhyeong/Desktop/박준형/02. 대내 및 대외활동/01. 대내활동/03. Biz&AI 랩/02. 소스/01. 데이터/03. 트위터 데이터/02. Selected Data')\n",
    "companies.remove('.DS_Store')\n",
    "len(companies)"
   ]
  },
  {
   "cell_type": "code",
   "execution_count": 8,
   "id": "ef167e2c",
   "metadata": {
    "scrolled": true
   },
   "outputs": [],
   "source": [
    "news_df['Positive Consumer Perception'] = 0\n",
    "news_df['Negative Consumer Perception'] = 0"
   ]
  },
  {
   "cell_type": "code",
   "execution_count": 9,
   "id": "edc97c1f",
   "metadata": {},
   "outputs": [],
   "source": [
    "twitter_path = '/Users/parkjunhyeong/Desktop/박준형/02. 대내 및 대외활동/01. 대내활동/03. Biz&AI 랩/02. 소스/01. 데이터/03. 트위터 데이터/02. Selected Data'"
   ]
  },
  {
   "cell_type": "code",
   "execution_count": null,
   "id": "273bfbd9",
   "metadata": {},
   "outputs": [
    {
     "name": "stderr",
     "output_type": "stream",
     "text": [
      "\r",
      "  0%|                                                  | 0/4566 [00:00<?, ?it/s]"
     ]
    }
   ],
   "source": [
    "for i in tqdm(range(len(news_df))):\n",
    "    try:\n",
    "        ticker = news_df.loc[i, 'Ticker'][2:-2]\n",
    "        publish_date = news_df.loc[i, 'Publish Date']\n",
    "        #주가 데이터에서 필요 정보 가져오기\n",
    "        twitter_df = pd.read_csv(twitter_path + '/' + ticker + '.csv', lineterminator = '\\n')\n",
    "        for i in range(len(twitter_df)):\n",
    "            try:\n",
    "                twitter_df.iloc[i,1] = twitter_df.iloc[i,1][:-15]\n",
    "            except:\n",
    "                pass\n",
    "        #twitter_df['datetime'] = twitter_df['datetime'].apply(lambda x : x[:-15])\n",
    "        #news publish date와 일치하는 트위터 게시일이 있는 경우\n",
    "        if publish_date in list(twitter_df['datetime']):\n",
    "            cp_pos = 0\n",
    "            cp_neg = 0\n",
    "            average_pos = 0\n",
    "            average_neg = 0\n",
    "            for j in range(15):\n",
    "                #15일간의 Positive 확률의 평균값 구하기\n",
    "                calculation_date = (datetime(int(publish_date[:4]), int(publish_date[5:7]), int(publish_date[8:10])) + timedelta(days = j)).strftime(\"%Y-%m-%d\")\n",
    "                pos_sentiment = twitter_df[twitter_df['datetime'] == calculation_date]['positive'].mean()\n",
    "                neg_sentiment = twitter_df[twitter_df['datetime'] == calculation_date]['negative'].mean()\n",
    "                cp_pos += pos_sentiment\n",
    "                cp_neg += neg_sentiment\n",
    "            for j in range(100):\n",
    "                calculation_date = (datetime(int(publish_date[:4]), int(publish_date[5:7]), int(publish_date[8:10])) + timedelta(days = -30 - j)).strftime(\"%Y-%m-%d\")\n",
    "                pos_sentiment = twitter_df[twitter_df['datetime'] == calculation_date]['positive'].mean()\n",
    "                neg_sentiment = twitter_df[twitter_df['datetime'] == calculation_date]['negative'].mean()\n",
    "                average_pos += pos_sentiment\n",
    "                average_neg += neg_sentiment\n",
    "            cp_pos /= 15\n",
    "            cp_neg /= 15\n",
    "            average_pos /= 100\n",
    "            average_neg /= 100\n",
    "            cp_pos = cp_pos - average_pos\n",
    "            cp_neg = cp_neg - average_neg\n",
    "        #news publish date와 일치하는 트위터 게시일이 없는 경우\n",
    "        else:\n",
    "            publish_datetime = datetime(int(publish_date[:4]), int(publish_date[5:7]), int(publish_date[8:10]))\n",
    "            for k in range(30):\n",
    "                if (publish_datetime + timedelta(days = k)).strftime(\"%Y-%m-%d\") in list(twitter_df['datetime']):\n",
    "                    publish_date = (publish_datetime + timedelta(days = k)).strftime(\"%Y-%m-%d\")\n",
    "                    break\n",
    "            cp_pos = 0\n",
    "            cp_neg = 0\n",
    "            for j in range(15):\n",
    "                #15일간의 Positive 확률의 평균값 구하기\n",
    "                calculation_date = (datetime(int(publish_date[:4]), int(publish_date[5:7]), int(publish_date[8:10])) + timedelta(days = j)).strftime(\"%Y-%m-%d\")\n",
    "                pos_sentiment = twitter_df[twitter_df['datetime'] == calculation_date]['positive'].mean()\n",
    "                neg_sentiment = twitter_df[twitter_df['datetime'] == calculation_date]['negative'].mean()\n",
    "                cp_pos += pos_sentiment\n",
    "                cp_neg += neg_sentiment\n",
    "            for j in range(100):\n",
    "                calculation_date = (datetime(int(publish_date[:4]), int(publish_date[5:7]), int(publish_date[8:10])) + timedelta(days = -30 - j)).strftime(\"%Y-%m-%d\")\n",
    "                pos_sentiment = twitter_df[twitter_df['datetime'] == calculation_date]['positive'].mean()\n",
    "                neg_sentiment = twitter_df[twitter_df['datetime'] == calculation_date]['negative'].mean()\n",
    "                average_pos += pos_sentiment\n",
    "                average_neg += neg_sentiment\n",
    "            cp_pos /= 15\n",
    "            cp_neg /= 15\n",
    "            average_pos /= 100\n",
    "            average_neg /= 100\n",
    "            cp_pos = cp_pos - average_pos\n",
    "            cp_neg = cp_neg - average_neg\n",
    "        news_df.iloc[i,-1] = cp_neg\n",
    "        news_df.iloc[i,-2] = cp_pos\n",
    "                \n",
    "    except Exception as e :\n",
    "        print(ticker, publish_date)\n",
    "        print(e)"
   ]
  },
  {
   "cell_type": "code",
   "execution_count": null,
   "id": "dd28c050",
   "metadata": {},
   "outputs": [],
   "source": []
  }
 ],
 "metadata": {
  "kernelspec": {
   "display_name": "Python 3 (ipykernel)",
   "language": "python",
   "name": "python3"
  },
  "language_info": {
   "codemirror_mode": {
    "name": "ipython",
    "version": 3
   },
   "file_extension": ".py",
   "mimetype": "text/x-python",
   "name": "python",
   "nbconvert_exporter": "python",
   "pygments_lexer": "ipython3",
   "version": "3.9.15"
  }
 },
 "nbformat": 4,
 "nbformat_minor": 5
}
