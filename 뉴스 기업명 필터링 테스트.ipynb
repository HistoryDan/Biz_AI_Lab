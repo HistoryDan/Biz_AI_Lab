{
 "cells": [
  {
   "cell_type": "code",
   "execution_count": 1,
   "id": "36aefa98",
   "metadata": {},
   "outputs": [],
   "source": [
    "import pandas as pd\n",
    "import numpy as np"
   ]
  },
  {
   "cell_type": "code",
   "execution_count": 2,
   "id": "1c6ecc71",
   "metadata": {},
   "outputs": [],
   "source": [
    "df = pd.read_csv('/Users/parkjunhyeong/Desktop/nytimes_biz_ver0.3.csv', index_col = 0)"
   ]
  },
  {
   "cell_type": "code",
   "execution_count": 8,
   "id": "475d61b0",
   "metadata": {
    "scrolled": true
   },
   "outputs": [
    {
     "name": "stdout",
     "output_type": "stream",
     "text": [
      "Saudi Aramco to Buy $69 Billion Stake in Petrochemical Company\n",
      "DealBook Briefing: Saudi Arabia Wanted Cash. Aramco Just Obliged.\n",
      "DealBook Briefing: Aramco Makes More Money Than Apple and Alphabet Combined\n",
      "Saudi Aramco Is World’s Most Profitable Company, Beating Apple by Far\n",
      "Demand for Saudi Aramco Bonds Sails Past the Goal\n",
      "With Saudi Aramco Set to Disclose Earnings, Could an I.P.O. Be Next?\n",
      "Saudi Aramco Says It’s ‘Ready’ for I.P.O. as It Reports Half-Year Earnings\n",
      "At Saudi Aramco, Changes at the Top Point to a Coming I.P.O.\n",
      "DealBook Briefing: Is Saudi Arabia Twisting Arms to Help Aramco’s I.P.O.?\n",
      "Aramco’s I.P.O. Will Be Less Gigantic Than Promised\n",
      "Saudi Aramco Announces Plans to Go Public\n",
      "Is Aramco Worth $2 Trillion? And Other Crucial I.P.O. Questions\n",
      "Saudi Aramco Offers Some Details on Coming Stock Offering\n",
      "Saudi Aramco Sets Its Market Value at Up to $1.7 Trillion\n",
      "Saudi Aramco to Raise $25.6 Billion in Biggest I.P.O. Ever\n",
      "Saudi Aramco Sells $25.6 billion in Shares for I.P.O.\n",
      "How Aramco’s Huge I.P.O. Fell Short of Saudi Prince’s Wish\n",
      "Saudi Aramco Stock Surges, but Questions Loom\n",
      "Saudi Aramco Shares Jump 10% in Record I.P.O.\n",
      "Saudi Arabia Insisted Aramco Was Worth $2 Trillion. Now It Is.\n",
      "Saudi Aramco’s Profits Slip as Oil Prices Fall\n",
      "Saudi Aramco Says Profit Fell 73 Percent as Demand for Oil Shrank\n",
      "Saudi Aramco’s profit fell 73 percent as demand for oil shrank.\n",
      "Saudi Aramco’s Profit Fell 44 Percent in 2020\n",
      "Saudi Aramco sells oil pipeline stake for $12.4 billion\n",
      "Saudi Aramco Profits Nearly Triple as Oil Prices Rise\n",
      "Saudi Aramco will use big jump in profits to invest in more oil production.\n",
      "Saudi Aramco cashes in on rising oil prices as profit jumps 80 percent.\n",
      "Saudi Aramco’s Profit Jumps 90 Percent on High Oil Prices\n"
     ]
    }
   ],
   "source": [
    "count = 0\n",
    "company = 'aramco' #기업명 \n",
    "\n",
    "for i in range(len(df)):\n",
    "    if company.upper() in df['title'][i].upper():\n",
    "        print(df['title'][i])\n",
    "        count += 1"
   ]
  },
  {
   "cell_type": "code",
   "execution_count": 9,
   "id": "64edc8fc",
   "metadata": {},
   "outputs": [
    {
     "data": {
      "text/plain": [
       "29"
      ]
     },
     "execution_count": 9,
     "metadata": {},
     "output_type": "execute_result"
    }
   ],
   "source": [
    "count"
   ]
  },
  {
   "cell_type": "raw",
   "id": "87bad5ff",
   "metadata": {},
   "source": []
  }
 ],
 "metadata": {
  "kernelspec": {
   "display_name": "Python 3 (ipykernel)",
   "language": "python",
   "name": "python3"
  },
  "language_info": {
   "codemirror_mode": {
    "name": "ipython",
    "version": 3
   },
   "file_extension": ".py",
   "mimetype": "text/x-python",
   "name": "python",
   "nbconvert_exporter": "python",
   "pygments_lexer": "ipython3",
   "version": "3.9.12"
  }
 },
 "nbformat": 4,
 "nbformat_minor": 5
}
