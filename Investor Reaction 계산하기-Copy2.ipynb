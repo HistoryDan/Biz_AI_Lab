{
 "cells": [
  {
   "cell_type": "markdown",
   "id": "1274e69d",
   "metadata": {},
   "source": [
    "# 1. 비즈니스 뉴스 & 일반 뉴스 합치기"
   ]
  },
  {
   "cell_type": "code",
   "execution_count": 19,
   "id": "3e5c21d3",
   "metadata": {},
   "outputs": [],
   "source": [
    "import os\n",
    "import math\n",
    "import numpy as np\n",
    "import pandas as pd\n",
    "from tqdm import tqdm\n",
    "from datetime import datetime, timedelta"
   ]
  },
  {
   "cell_type": "code",
   "execution_count": 20,
   "id": "9e34a601",
   "metadata": {},
   "outputs": [],
   "source": [
    "# news_df1 = pd.read_excel('/Users/parkjunhyeong/Desktop/nytimes_ver1.1.xlsx', sheet_name = 'Sheet1', index_col = 0)\n",
    "# news_df2 = pd.read_excel('/Users/parkjunhyeong/Desktop/nytimes2_ver0.1.xlsx', sheet_name = 'Sheet1', index_col = 0)"
   ]
  },
  {
   "cell_type": "code",
   "execution_count": 21,
   "id": "6b846178",
   "metadata": {
    "scrolled": true
   },
   "outputs": [],
   "source": [
    "# news_df1.columns"
   ]
  },
  {
   "cell_type": "code",
   "execution_count": 22,
   "id": "0acbabfa",
   "metadata": {
    "scrolled": true
   },
   "outputs": [],
   "source": [
    "# news_df2.rename(columns = {'hrefs' : 'URL', 'publish_date' : 'Publish Date', 'title' : 'Title', 'main_text' : 'Main Text',\n",
    "#                    'len' : 'Length'}, inplace = True ) \n",
    "# news_df2.columns"
   ]
  },
  {
   "cell_type": "code",
   "execution_count": 23,
   "id": "c7cf3b73",
   "metadata": {},
   "outputs": [],
   "source": [
    "# news_df1 = news_df1[['URL', 'Publish Date', 'Title', 'Main Text', 'Ticker', 'Description', 'Name', 'Length']]\n",
    "# news_df2 = news_df2[['URL', 'Publish Date', 'Title', 'Main Text', 'Ticker', 'Description', 'Name', 'Length']]"
   ]
  },
  {
   "cell_type": "code",
   "execution_count": 24,
   "id": "1bf11b9e",
   "metadata": {
    "scrolled": true
   },
   "outputs": [],
   "source": [
    "# news_df = pd.concat([news_df1, news_df2])\n",
    "# news_df"
   ]
  },
  {
   "cell_type": "code",
   "execution_count": 25,
   "id": "d0573e1d",
   "metadata": {
    "scrolled": true
   },
   "outputs": [],
   "source": [
    "# news_df = news_df[news_df['Length'] == 1]\n",
    "# news_df"
   ]
  },
  {
   "cell_type": "code",
   "execution_count": 26,
   "id": "45dc4b49",
   "metadata": {},
   "outputs": [],
   "source": [
    "news_df = pd.read_excel('/Users/parkjunhyeong/Desktop/박준형/02. 대내 및 대외활동/01. 대내활동/03. Biz&AI 랩/02. 소스/01. 데이터/06. 회귀분석 데이터/뉴스 라벨링 취합_ver0.2.xlsx', sheet_name = 'Sheet3')\n",
    "news_df['Ticker'] = news_df['Ticker'].apply(lambda x : eval(x))\n",
    "news_df['Description'] = news_df['Description'].apply(lambda x : eval(x))"
   ]
  },
  {
   "cell_type": "code",
   "execution_count": 27,
   "id": "2903ec23",
   "metadata": {},
   "outputs": [
    {
     "name": "stderr",
     "output_type": "stream",
     "text": [
      "/var/folders/z6/nn0fl27x39547ybzc5y11s8m0000gn/T/ipykernel_5211/2733437392.py:3: SettingWithCopyWarning: \n",
      "A value is trying to be set on a copy of a slice from a DataFrame\n",
      "\n",
      "See the caveats in the documentation: https://pandas.pydata.org/pandas-docs/stable/user_guide/indexing.html#returning-a-view-versus-a-copy\n",
      "  news_df['Ticker'][i] = [news_df['Ticker'][i][0]]\n",
      "/var/folders/z6/nn0fl27x39547ybzc5y11s8m0000gn/T/ipykernel_5211/2733437392.py:4: SettingWithCopyWarning: \n",
      "A value is trying to be set on a copy of a slice from a DataFrame\n",
      "\n",
      "See the caveats in the documentation: https://pandas.pydata.org/pandas-docs/stable/user_guide/indexing.html#returning-a-view-versus-a-copy\n",
      "  news_df['Description'][i] = [news_df['Description'][i][0]]\n"
     ]
    }
   ],
   "source": [
    "for i in range(len(news_df)):\n",
    "    if len(news_df['Ticker'][i]) > 1:\n",
    "        news_df['Ticker'][i] = [news_df['Ticker'][i][0]]\n",
    "        news_df['Description'][i] = [news_df['Description'][i][0]]"
   ]
  },
  {
   "cell_type": "code",
   "execution_count": 28,
   "id": "8108d1c8",
   "metadata": {},
   "outputs": [],
   "source": [
    "#제대로 되었는지 확인하기\n",
    "for i in range(len(news_df)):\n",
    "    if len(news_df['Ticker'][i]) != 1:\n",
    "        print(i)"
   ]
  },
  {
   "cell_type": "markdown",
   "id": "f8004842",
   "metadata": {},
   "source": [
    "# 2. 기업별 상장일 이전에 나온 뉴스 삭제"
   ]
  },
  {
   "cell_type": "code",
   "execution_count": 29,
   "id": "ba331add",
   "metadata": {},
   "outputs": [],
   "source": [
    "stock_path = '/Users/parkjunhyeong/Desktop/박준형/02. 대내 및 대외활동/01. 대내활동/03. Biz&AI 랩/02. 소스/01. 데이터/04. 주가 데이터/01. Yahoo Finance'\n",
    "companies = os.listdir('/Users/parkjunhyeong/Desktop/박준형/02. 대내 및 대외활동/01. 대내활동/03. Biz&AI 랩/02. 소스/01. 데이터/04. 주가 데이터/01. Yahoo Finance')\n"
   ]
  },
  {
   "cell_type": "code",
   "execution_count": 30,
   "id": "059a9405",
   "metadata": {},
   "outputs": [
    {
     "data": {
      "text/plain": [
       "220"
      ]
     },
     "execution_count": 30,
     "metadata": {},
     "output_type": "execute_result"
    }
   ],
   "source": [
    "len(companies)"
   ]
  },
  {
   "cell_type": "code",
   "execution_count": 31,
   "id": "3a1bb065",
   "metadata": {},
   "outputs": [
    {
     "name": "stderr",
     "output_type": "stream",
     "text": [
      "100%|██████████████████████████████████████| 4802/4802 [00:06<00:00, 793.17it/s]\n"
     ]
    }
   ],
   "source": [
    "news_df['Date Comparison'] = True\n",
    "\n",
    "for i in tqdm(range(len(news_df))):\n",
    "    #뉴스 데이터에서 필요 정보 가져오기\n",
    "    ticker = news_df.loc[i, 'Ticker'][0]\n",
    "    publish_date = str(news_df.loc[i, 'Publish Date'])\n",
    "    publish_date = datetime(int(publish_date[:4]), int(publish_date[5:7]), int(publish_date[8:10]))\n",
    "    #주가 데이터에서 필요 정보 가져오기\n",
    "    stock_df = pd.read_csv(stock_path + '/' + ticker + '.csv')\n",
    "    start_date = stock_df.iloc[0,0]\n",
    "    start_date = datetime(int(start_date[:4]), int(start_date[5:7]), int(start_date[8:10]))\n",
    "    \n",
    "    if start_date >= publish_date:\n",
    "        news_df.iloc[i, -1] = False\n",
    "    else: \n",
    "        pass"
   ]
  },
  {
   "cell_type": "code",
   "execution_count": 32,
   "id": "0cbe27ae",
   "metadata": {
    "scrolled": true
   },
   "outputs": [
    {
     "data": {
      "text/plain": [
       "True     4561\n",
       "False     241\n",
       "Name: Date Comparison, dtype: int64"
      ]
     },
     "execution_count": 32,
     "metadata": {},
     "output_type": "execute_result"
    }
   ],
   "source": [
    "news_df['Date Comparison'].value_counts()"
   ]
  },
  {
   "cell_type": "code",
   "execution_count": 33,
   "id": "bf23baf2",
   "metadata": {},
   "outputs": [],
   "source": [
    "news_df = news_df[news_df['Date Comparison'] == True]\n",
    "news_df.reset_index(drop = True, inplace = True)"
   ]
  },
  {
   "cell_type": "markdown",
   "id": "b995bfeb",
   "metadata": {},
   "source": [
    "# 3. 날짜별 Stock Price Excess Return 계산하기"
   ]
  },
  {
   "cell_type": "code",
   "execution_count": 34,
   "id": "70914300",
   "metadata": {},
   "outputs": [],
   "source": [
    "Market_df = pd.read_csv('/Users/parkjunhyeong/Desktop/박준형/02. 대내 및 대외활동/01. 대내활동/03. Biz&AI 랩/02. 소스/01. 데이터/01. 메타 데이터/F-F_Research_Data_Factors_daily.CSV')\n",
    "Market_df.dropna(inplace = True)\n",
    "Market_df['Date'] = Market_df['Date'].apply(lambda x : x[:4] + '-' + x[4:6] + '-' + x[6:])"
   ]
  },
  {
   "cell_type": "code",
   "execution_count": 35,
   "id": "c821843b",
   "metadata": {},
   "outputs": [
    {
     "name": "stderr",
     "output_type": "stream",
     "text": [
      "/var/folders/z6/nn0fl27x39547ybzc5y11s8m0000gn/T/ipykernel_5211/3172078703.py:1: SettingWithCopyWarning: \n",
      "A value is trying to be set on a copy of a slice from a DataFrame.\n",
      "Try using .loc[row_indexer,col_indexer] = value instead\n",
      "\n",
      "See the caveats in the documentation: https://pandas.pydata.org/pandas-docs/stable/user_guide/indexing.html#returning-a-view-versus-a-copy\n",
      "  news_df['Investor Reaction'] = 0\n"
     ]
    }
   ],
   "source": [
    "news_df['Investor Reaction'] = 0"
   ]
  },
  {
   "cell_type": "code",
   "execution_count": null,
   "id": "5c70c80e",
   "metadata": {},
   "outputs": [
    {
     "name": "stderr",
     "output_type": "stream",
     "text": [
      "  0%|                                                  | 0/4561 [00:00<?, ?it/s]/var/folders/z6/nn0fl27x39547ybzc5y11s8m0000gn/T/ipykernel_5211/2597140441.py:45: SettingWithCopyWarning: \n",
      "A value is trying to be set on a copy of a slice from a DataFrame.\n",
      "Try using .loc[row_indexer,col_indexer] = value instead\n",
      "\n",
      "See the caveats in the documentation: https://pandas.pydata.org/pandas-docs/stable/user_guide/indexing.html#returning-a-view-versus-a-copy\n",
      "  news_df.iloc[i,-1] = ER_total\n",
      " 35%|█████████████▎                        | 1605/4561 [00:16<00:28, 102.87it/s]"
     ]
    }
   ],
   "source": [
    "for i in tqdm(range(len(news_df))):\n",
    "    try:\n",
    "        if news_df.iloc[i, -2] == False:\n",
    "            pass\n",
    "        else:\n",
    "            ticker = news_df.loc[i, 'Ticker'][0]\n",
    "            publish_date = news_df.loc[i, 'Publish Date']\n",
    "            publish_date = str(publish_date)[:-9]\n",
    "            #주가 데이터에서 필요 정보 가져오기\n",
    "            stock_df = pd.read_csv(stock_path + '/' + ticker + '.csv')\n",
    "            #news publish date와 일치하는 영업일이 있는 경우\n",
    "            if publish_date in list(stock_df['Date']):\n",
    "                ER_total = 0\n",
    "                for j in range(5):\n",
    "                    #Return 계산\n",
    "                    index1 = stock_df[stock_df['Date'] == publish_date].index\n",
    "                    Return = (float(stock_df.loc[index1 + j, 'Adj Close']) - float(stock_df.loc[index1 + j - 1, 'Adj Close'])) / float(stock_df.loc[index1 + j - 1, 'Adj Close'])\n",
    "                    #Market Rate of Return 계산\n",
    "                    index2 = Market_df[Market_df['Date'] == publish_date].index\n",
    "                    Market_Return = (float(Market_df.loc[index2 + j, 'Mkt-RF']) + float(Market_df.loc[index2 + j, 'RF'])) / 100\n",
    "                    #Excess Return 계산\n",
    "                    #ER = math.log10(1 + (Return - Market_Return) / 10)\n",
    "                    ER = math.log10(1 + (Return - Market_Return))\n",
    "                    ER_total += ER\n",
    "                news_df.iloc[i,-1] = ER_total\n",
    "            #news publish date와 일치하는 영업일이 없는 경우\n",
    "            else:\n",
    "                publish_datetime = datetime(int(publish_date[:4]), int(publish_date[5:7]), int(publish_date[8:10]))\n",
    "                for k in range(10):\n",
    "                    if (publish_datetime + timedelta(days = k)).strftime(\"%Y-%m-%d\") in list(stock_df['Date']):\n",
    "                        publish_date = (publish_datetime + timedelta(days = k)).strftime(\"%Y-%m-%d\")\n",
    "                        break\n",
    "                ER_total = 0\n",
    "                for j in range(5):\n",
    "                    #Return 계산\n",
    "                    index1 = stock_df[stock_df['Date'] == publish_date].index\n",
    "                    Return = (float(stock_df.loc[index1 + j, 'Adj Close']) - float(stock_df.loc[index1 + j - 1, 'Adj Close'])) / float(stock_df.loc[index1 + j - 1, 'Adj Close'])\n",
    "                    #Market Rate of Return 계산\n",
    "                    index2 = Market_df[Market_df['Date'] == publish_date].index\n",
    "                    Market_Return = (float(Market_df.loc[index2 + j, 'Mkt-RF']) + float(Market_df.loc[index2 + j, 'RF'])) / 100\n",
    "                    #Excess Return 계산\n",
    "                    #ER = math.log10(1 + (Return - Market_Return) / 10)\n",
    "                    ER = math.log10(1 + (Return - Market_Return))\n",
    "                    ER_total += ER\n",
    "                news_df.iloc[i,-1] = ER_total\n",
    "                \n",
    "    except Exception as e :\n",
    "        print(ticker, publish_date)\n",
    "        print(e)"
   ]
  },
  {
   "cell_type": "code",
   "execution_count": 39,
   "id": "cb33a886",
   "metadata": {
    "scrolled": true
   },
   "outputs": [
    {
     "data": {
      "text/html": [
       "<div>\n",
       "<style scoped>\n",
       "    .dataframe tbody tr th:only-of-type {\n",
       "        vertical-align: middle;\n",
       "    }\n",
       "\n",
       "    .dataframe tbody tr th {\n",
       "        vertical-align: top;\n",
       "    }\n",
       "\n",
       "    .dataframe thead th {\n",
       "        text-align: right;\n",
       "    }\n",
       "</style>\n",
       "<table border=\"1\" class=\"dataframe\">\n",
       "  <thead>\n",
       "    <tr style=\"text-align: right;\">\n",
       "      <th></th>\n",
       "      <th>URL</th>\n",
       "      <th>Publish Date</th>\n",
       "      <th>Title</th>\n",
       "      <th>Main Text</th>\n",
       "      <th>Ticker</th>\n",
       "      <th>Description</th>\n",
       "      <th>News Type</th>\n",
       "      <th>Sentiment</th>\n",
       "      <th>Investor Reaction</th>\n",
       "    </tr>\n",
       "  </thead>\n",
       "  <tbody>\n",
       "    <tr>\n",
       "      <th>0</th>\n",
       "      <td>https://www.nytimes.com/2019/01/01/business/me...</td>\n",
       "      <td>2019-01-01</td>\n",
       "      <td>Netflix Blocks Show in Saudi Arabia Critical o...</td>\n",
       "      <td>Netflix has blocked an episode of its show “Pa...</td>\n",
       "      <td>[NFLX]</td>\n",
       "      <td>[Netflix Inc]</td>\n",
       "      <td>ESG</td>\n",
       "      <td>Negative</td>\n",
       "      <td>0.064605</td>\n",
       "    </tr>\n",
       "    <tr>\n",
       "      <th>1</th>\n",
       "      <td>https://www.nytimes.com/2019/01/02/business/ju...</td>\n",
       "      <td>2019-01-02</td>\n",
       "      <td>Julie Sweet of Accenture Could See Her Future....</td>\n",
       "      <td>Why did you go to law school?\\n \\n I decided t...</td>\n",
       "      <td>[ACN]</td>\n",
       "      <td>[Accenture Plc Class A]</td>\n",
       "      <td>Non-ESG</td>\n",
       "      <td>Positive</td>\n",
       "      <td>-0.001291</td>\n",
       "    </tr>\n",
       "    <tr>\n",
       "      <th>2</th>\n",
       "      <td>https://www.nytimes.com/2019/01/02/business/te...</td>\n",
       "      <td>2019-01-02</td>\n",
       "      <td>Tesla Reports Record Output, but Cuts Prices, ...</td>\n",
       "      <td>Tesla shares ended trading nearly 7 percent lo...</td>\n",
       "      <td>[TSLA]</td>\n",
       "      <td>[Tesla Inc]</td>\n",
       "      <td>Financial Performance</td>\n",
       "      <td>Negative</td>\n",
       "      <td>-0.010247</td>\n",
       "    </tr>\n",
       "    <tr>\n",
       "      <th>3</th>\n",
       "      <td>https://www.nytimes.com/2019/01/03/business/de...</td>\n",
       "      <td>2019-01-03</td>\n",
       "      <td>Bristol-Myers to Acquire Celgene in Deal Worth...</td>\n",
       "      <td>Bristol-Myers Squibb said on Thursday that it ...</td>\n",
       "      <td>[BMY]</td>\n",
       "      <td>[Bristol Myers Squibb]</td>\n",
       "      <td>Financial Performance</td>\n",
       "      <td>Neutral</td>\n",
       "      <td>-0.056534</td>\n",
       "    </tr>\n",
       "    <tr>\n",
       "      <th>4</th>\n",
       "      <td>https://www.nytimes.com/2019/01/03/business/de...</td>\n",
       "      <td>2019-01-03</td>\n",
       "      <td>Was Apple’s Warning a Surprise? Not to Its Sup...</td>\n",
       "      <td>Apple’s stock fell 10 percent on Thursday, its...</td>\n",
       "      <td>[AAPL]</td>\n",
       "      <td>[Apple Inc]</td>\n",
       "      <td>Financial Performance</td>\n",
       "      <td>Negative</td>\n",
       "      <td>-0.027306</td>\n",
       "    </tr>\n",
       "    <tr>\n",
       "      <th>...</th>\n",
       "      <td>...</td>\n",
       "      <td>...</td>\n",
       "      <td>...</td>\n",
       "      <td>...</td>\n",
       "      <td>...</td>\n",
       "      <td>...</td>\n",
       "      <td>...</td>\n",
       "      <td>...</td>\n",
       "      <td>...</td>\n",
       "    </tr>\n",
       "    <tr>\n",
       "      <th>4797</th>\n",
       "      <td>https://www.nytimes.com/2022/10/18/technology/...</td>\n",
       "      <td>2022-10-18</td>\n",
       "      <td>Amazon Labor Union Loses Election at Warehouse...</td>\n",
       "      <td>Mr. Smalls said the election “wasn’t free and ...</td>\n",
       "      <td>[AMZN]</td>\n",
       "      <td>[Amazon.Com Inc.]</td>\n",
       "      <td>ESG</td>\n",
       "      <td>Positive</td>\n",
       "      <td>0.010129</td>\n",
       "    </tr>\n",
       "    <tr>\n",
       "      <th>4798</th>\n",
       "      <td>https://www.nytimes.com/2022/10/20/technology/...</td>\n",
       "      <td>2022-10-20</td>\n",
       "      <td>Texas Sues Google for Collecting Biometric Dat...</td>\n",
       "      <td>José Castañeda, a Google spokesman, said in a ...</td>\n",
       "      <td>[GOOG]</td>\n",
       "      <td>[Alphabet Inc Class C]</td>\n",
       "      <td>ESG</td>\n",
       "      <td>Negative</td>\n",
       "      <td>-0.040082</td>\n",
       "    </tr>\n",
       "    <tr>\n",
       "      <th>4799</th>\n",
       "      <td>https://www.nytimes.com/2022/10/25/technology/...</td>\n",
       "      <td>2022-10-25</td>\n",
       "      <td>Microsoft Reports Slowest Revenue Growth in Fi...</td>\n",
       "      <td>In the most recent quarter, softness in the gl...</td>\n",
       "      <td>[MSFT]</td>\n",
       "      <td>[Microsoft Corp]</td>\n",
       "      <td>Financial Performance</td>\n",
       "      <td>Positive</td>\n",
       "      <td>-0.036752</td>\n",
       "    </tr>\n",
       "    <tr>\n",
       "      <th>4800</th>\n",
       "      <td>https://www.nytimes.com/2022/10/27/technology/...</td>\n",
       "      <td>2022-10-27</td>\n",
       "      <td>Apple’s iPhone Powers Growth, but Signs Point ...</td>\n",
       "      <td>When Apple released the 16th version of its iP...</td>\n",
       "      <td>[AAPL]</td>\n",
       "      <td>[Apple Inc]</td>\n",
       "      <td>Financial Performance</td>\n",
       "      <td>Positive</td>\n",
       "      <td>-0.003742</td>\n",
       "    </tr>\n",
       "    <tr>\n",
       "      <th>4801</th>\n",
       "      <td>https://www.nytimes.com/2022/10/27/technology/...</td>\n",
       "      <td>2022-10-27</td>\n",
       "      <td>Amazon Returns to Growth but Signals Slowness ...</td>\n",
       "      <td>The results come amid a rocky patch for tech g...</td>\n",
       "      <td>[AMZN]</td>\n",
       "      <td>[Amazon.Com Inc.]</td>\n",
       "      <td>Financial Performance</td>\n",
       "      <td>Negative</td>\n",
       "      <td>-0.091115</td>\n",
       "    </tr>\n",
       "  </tbody>\n",
       "</table>\n",
       "<p>4561 rows × 9 columns</p>\n",
       "</div>"
      ],
      "text/plain": [
       "                                                    URL Publish Date  \\\n",
       "0     https://www.nytimes.com/2019/01/01/business/me...   2019-01-01   \n",
       "1     https://www.nytimes.com/2019/01/02/business/ju...   2019-01-02   \n",
       "2     https://www.nytimes.com/2019/01/02/business/te...   2019-01-02   \n",
       "3     https://www.nytimes.com/2019/01/03/business/de...   2019-01-03   \n",
       "4     https://www.nytimes.com/2019/01/03/business/de...   2019-01-03   \n",
       "...                                                 ...          ...   \n",
       "4797  https://www.nytimes.com/2022/10/18/technology/...   2022-10-18   \n",
       "4798  https://www.nytimes.com/2022/10/20/technology/...   2022-10-20   \n",
       "4799  https://www.nytimes.com/2022/10/25/technology/...   2022-10-25   \n",
       "4800  https://www.nytimes.com/2022/10/27/technology/...   2022-10-27   \n",
       "4801  https://www.nytimes.com/2022/10/27/technology/...   2022-10-27   \n",
       "\n",
       "                                                  Title  \\\n",
       "0     Netflix Blocks Show in Saudi Arabia Critical o...   \n",
       "1     Julie Sweet of Accenture Could See Her Future....   \n",
       "2     Tesla Reports Record Output, but Cuts Prices, ...   \n",
       "3     Bristol-Myers to Acquire Celgene in Deal Worth...   \n",
       "4     Was Apple’s Warning a Surprise? Not to Its Sup...   \n",
       "...                                                 ...   \n",
       "4797  Amazon Labor Union Loses Election at Warehouse...   \n",
       "4798  Texas Sues Google for Collecting Biometric Dat...   \n",
       "4799  Microsoft Reports Slowest Revenue Growth in Fi...   \n",
       "4800  Apple’s iPhone Powers Growth, but Signs Point ...   \n",
       "4801  Amazon Returns to Growth but Signals Slowness ...   \n",
       "\n",
       "                                              Main Text  Ticker  \\\n",
       "0     Netflix has blocked an episode of its show “Pa...  [NFLX]   \n",
       "1     Why did you go to law school?\\n \\n I decided t...   [ACN]   \n",
       "2     Tesla shares ended trading nearly 7 percent lo...  [TSLA]   \n",
       "3     Bristol-Myers Squibb said on Thursday that it ...   [BMY]   \n",
       "4     Apple’s stock fell 10 percent on Thursday, its...  [AAPL]   \n",
       "...                                                 ...     ...   \n",
       "4797  Mr. Smalls said the election “wasn’t free and ...  [AMZN]   \n",
       "4798  José Castañeda, a Google spokesman, said in a ...  [GOOG]   \n",
       "4799  In the most recent quarter, softness in the gl...  [MSFT]   \n",
       "4800  When Apple released the 16th version of its iP...  [AAPL]   \n",
       "4801  The results come amid a rocky patch for tech g...  [AMZN]   \n",
       "\n",
       "                  Description              News Type Sentiment  \\\n",
       "0               [Netflix Inc]                    ESG  Negative   \n",
       "1     [Accenture Plc Class A]                Non-ESG  Positive   \n",
       "2                 [Tesla Inc]  Financial Performance  Negative   \n",
       "3      [Bristol Myers Squibb]  Financial Performance   Neutral   \n",
       "4                 [Apple Inc]  Financial Performance  Negative   \n",
       "...                       ...                    ...       ...   \n",
       "4797        [Amazon.Com Inc.]                    ESG  Positive   \n",
       "4798   [Alphabet Inc Class C]                    ESG  Negative   \n",
       "4799         [Microsoft Corp]  Financial Performance  Positive   \n",
       "4800              [Apple Inc]  Financial Performance  Positive   \n",
       "4801        [Amazon.Com Inc.]  Financial Performance  Negative   \n",
       "\n",
       "      Investor Reaction  \n",
       "0              0.064605  \n",
       "1             -0.001291  \n",
       "2             -0.010247  \n",
       "3             -0.056534  \n",
       "4             -0.027306  \n",
       "...                 ...  \n",
       "4797           0.010129  \n",
       "4798          -0.040082  \n",
       "4799          -0.036752  \n",
       "4800          -0.003742  \n",
       "4801          -0.091115  \n",
       "\n",
       "[4561 rows x 9 columns]"
      ]
     },
     "execution_count": 39,
     "metadata": {},
     "output_type": "execute_result"
    }
   ],
   "source": [
    "news_df"
   ]
  },
  {
   "cell_type": "code",
   "execution_count": 40,
   "id": "445e83b9",
   "metadata": {
    "scrolled": true
   },
   "outputs": [],
   "source": [
    "news_df.to_csv('/Users/parkjunhyeong/Desktop/박준형/02. 대내 및 대외활동/01. 대내활동/03. Biz&AI 랩/02. 소스/01. 데이터/06. 회귀분석 데이터/Composed_Data_ver1.1.csv')"
   ]
  },
  {
   "cell_type": "code",
   "execution_count": null,
   "id": "9b912465",
   "metadata": {},
   "outputs": [],
   "source": []
  }
 ],
 "metadata": {
  "kernelspec": {
   "display_name": "Python 3 (ipykernel)",
   "language": "python",
   "name": "python3"
  },
  "language_info": {
   "codemirror_mode": {
    "name": "ipython",
    "version": 3
   },
   "file_extension": ".py",
   "mimetype": "text/x-python",
   "name": "python",
   "nbconvert_exporter": "python",
   "pygments_lexer": "ipython3",
   "version": "3.9.12"
  }
 },
 "nbformat": 4,
 "nbformat_minor": 5
}
